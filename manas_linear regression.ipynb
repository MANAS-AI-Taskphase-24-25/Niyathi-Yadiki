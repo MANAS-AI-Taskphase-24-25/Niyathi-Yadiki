{
 "cells": [
  {
   "cell_type": "markdown",
   "id": "7ae6f15c-21f7-4dc6-a804-62f2f347d380",
   "metadata": {},
   "source": [
    "# Task 2.0 - Linear Regression"
   ]
  },
  {
   "cell_type": "code",
   "execution_count": 60,
   "id": "292f2611-355f-4db9-a9e6-b083bcbaf7fa",
   "metadata": {},
   "outputs": [],
   "source": [
    "import numpy as np\n",
    "import pandas as pd\n",
    "import matplotlib.pyplot as plt"
   ]
  },
  {
   "cell_type": "markdown",
   "id": "962e2774-3bbb-45d6-bd6e-649cba6e1d04",
   "metadata": {},
   "source": [
    "# ## 1. Loading and exploring the data"
   ]
  },
  {
   "cell_type": "code",
   "execution_count": 61,
   "id": "2e553ee6-85f4-4631-aeb3-fc897a5e0116",
   "metadata": {},
   "outputs": [],
   "source": [
    "train_data = pd.read_csv(\"C://Users//Niyathi//Downloads//Train.csv\")\n",
    "test_data = pd.read_csv(\"C://Users//Niyathi//Downloads//Test.csv\")\n"
   ]
  },
  {
   "cell_type": "code",
   "execution_count": 62,
   "id": "d600b898-7439-47c8-8a2e-b61a72beda16",
   "metadata": {},
   "outputs": [
    {
     "data": {
      "text/html": [
       "<div>\n",
       "<style scoped>\n",
       "    .dataframe tbody tr th:only-of-type {\n",
       "        vertical-align: middle;\n",
       "    }\n",
       "\n",
       "    .dataframe tbody tr th {\n",
       "        vertical-align: top;\n",
       "    }\n",
       "\n",
       "    .dataframe thead th {\n",
       "        text-align: right;\n",
       "    }\n",
       "</style>\n",
       "<table border=\"1\" class=\"dataframe\">\n",
       "  <thead>\n",
       "    <tr style=\"text-align: right;\">\n",
       "      <th></th>\n",
       "      <th>Unnamed: 0</th>\n",
       "      <th>Name</th>\n",
       "      <th>Location</th>\n",
       "      <th>Year</th>\n",
       "      <th>Kilometers_Driven</th>\n",
       "      <th>Fuel_Type</th>\n",
       "      <th>Transmission</th>\n",
       "      <th>Owner_Type</th>\n",
       "      <th>Mileage</th>\n",
       "      <th>Engine</th>\n",
       "      <th>Power</th>\n",
       "      <th>Seats</th>\n",
       "      <th>Price</th>\n",
       "    </tr>\n",
       "  </thead>\n",
       "  <tbody>\n",
       "    <tr>\n",
       "      <th>0</th>\n",
       "      <td>0</td>\n",
       "      <td>Tata Tiago 1.2 Revotron XZ WO Alloy</td>\n",
       "      <td>Hyderabad</td>\n",
       "      <td>2017</td>\n",
       "      <td>16500</td>\n",
       "      <td>Petrol</td>\n",
       "      <td>Manual</td>\n",
       "      <td>First</td>\n",
       "      <td>23.84 kmpl</td>\n",
       "      <td>1199 CC</td>\n",
       "      <td>84 bhp</td>\n",
       "      <td>5.0</td>\n",
       "      <td>5.00</td>\n",
       "    </tr>\n",
       "    <tr>\n",
       "      <th>1</th>\n",
       "      <td>1</td>\n",
       "      <td>Mahindra TUV 300 2015-2019 mHAWK100 T8 AMT</td>\n",
       "      <td>Kochi</td>\n",
       "      <td>2017</td>\n",
       "      <td>47357</td>\n",
       "      <td>Diesel</td>\n",
       "      <td>Automatic</td>\n",
       "      <td>First</td>\n",
       "      <td>18.49 kmpl</td>\n",
       "      <td>1493 CC</td>\n",
       "      <td>100 bhp</td>\n",
       "      <td>7.0</td>\n",
       "      <td>8.37</td>\n",
       "    </tr>\n",
       "    <tr>\n",
       "      <th>2</th>\n",
       "      <td>2</td>\n",
       "      <td>Skoda Rapid 2013-2016 1.6 MPI Ambition</td>\n",
       "      <td>Mumbai</td>\n",
       "      <td>2014</td>\n",
       "      <td>35000</td>\n",
       "      <td>Petrol</td>\n",
       "      <td>Manual</td>\n",
       "      <td>First</td>\n",
       "      <td>15.0 kmpl</td>\n",
       "      <td>1598 CC</td>\n",
       "      <td>103.52 bhp</td>\n",
       "      <td>5.0</td>\n",
       "      <td>4.50</td>\n",
       "    </tr>\n",
       "    <tr>\n",
       "      <th>3</th>\n",
       "      <td>3</td>\n",
       "      <td>Tata Indica V2 DLS BSII</td>\n",
       "      <td>Jaipur</td>\n",
       "      <td>2007</td>\n",
       "      <td>200000</td>\n",
       "      <td>Diesel</td>\n",
       "      <td>Manual</td>\n",
       "      <td>Second</td>\n",
       "      <td>17.2 kmpl</td>\n",
       "      <td>1396 CC</td>\n",
       "      <td>53.5 bhp</td>\n",
       "      <td>5.0</td>\n",
       "      <td>0.85</td>\n",
       "    </tr>\n",
       "    <tr>\n",
       "      <th>4</th>\n",
       "      <td>4</td>\n",
       "      <td>Tata Manza Club Class Quadrajet90 LX</td>\n",
       "      <td>Mumbai</td>\n",
       "      <td>2013</td>\n",
       "      <td>64000</td>\n",
       "      <td>Diesel</td>\n",
       "      <td>Manual</td>\n",
       "      <td>Second</td>\n",
       "      <td>21.02 kmpl</td>\n",
       "      <td>1248 CC</td>\n",
       "      <td>88.76 bhp</td>\n",
       "      <td>5.0</td>\n",
       "      <td>2.65</td>\n",
       "    </tr>\n",
       "  </tbody>\n",
       "</table>\n",
       "</div>"
      ],
      "text/plain": [
       "   Unnamed: 0                                        Name   Location  Year  \\\n",
       "0           0         Tata Tiago 1.2 Revotron XZ WO Alloy  Hyderabad  2017   \n",
       "1           1  Mahindra TUV 300 2015-2019 mHAWK100 T8 AMT      Kochi  2017   \n",
       "2           2      Skoda Rapid 2013-2016 1.6 MPI Ambition     Mumbai  2014   \n",
       "3           3                     Tata Indica V2 DLS BSII     Jaipur  2007   \n",
       "4           4        Tata Manza Club Class Quadrajet90 LX     Mumbai  2013   \n",
       "\n",
       "   Kilometers_Driven Fuel_Type Transmission Owner_Type     Mileage   Engine  \\\n",
       "0              16500    Petrol       Manual      First  23.84 kmpl  1199 CC   \n",
       "1              47357    Diesel    Automatic      First  18.49 kmpl  1493 CC   \n",
       "2              35000    Petrol       Manual      First   15.0 kmpl  1598 CC   \n",
       "3             200000    Diesel       Manual     Second   17.2 kmpl  1396 CC   \n",
       "4              64000    Diesel       Manual     Second  21.02 kmpl  1248 CC   \n",
       "\n",
       "        Power  Seats  Price  \n",
       "0      84 bhp    5.0   5.00  \n",
       "1     100 bhp    7.0   8.37  \n",
       "2  103.52 bhp    5.0   4.50  \n",
       "3    53.5 bhp    5.0   0.85  \n",
       "4   88.76 bhp    5.0   2.65  "
      ]
     },
     "execution_count": 62,
     "metadata": {},
     "output_type": "execute_result"
    }
   ],
   "source": [
    "train_data.head()\n"
   ]
  },
  {
   "cell_type": "code",
   "execution_count": 63,
   "id": "fb06ae36-ca82-44d7-82f9-71d70f3977ce",
   "metadata": {},
   "outputs": [
    {
     "name": "stdout",
     "output_type": "stream",
     "text": [
      "Train data shape: (3750, 13)\n",
      "Test data shape: (1250, 13)\n"
     ]
    }
   ],
   "source": [
    "print(\"Train data shape:\", train_data.shape)\n",
    "print(\"Test data shape:\", test_data.shape)"
   ]
  },
  {
   "cell_type": "code",
   "execution_count": 64,
   "id": "60a4c330-916d-4a77-83f1-89c19396c731",
   "metadata": {},
   "outputs": [
    {
     "name": "stdout",
     "output_type": "stream",
     "text": [
      "Unnamed: 0            0\n",
      "Name                  0\n",
      "Location              0\n",
      "Year                  0\n",
      "Kilometers_Driven     0\n",
      "Fuel_Type             0\n",
      "Transmission          0\n",
      "Owner_Type            0\n",
      "Mileage               1\n",
      "Engine               28\n",
      "Power                28\n",
      "Seats                32\n",
      "Price                 0\n",
      "dtype: int64\n"
     ]
    }
   ],
   "source": [
    "# Check for missing values\n",
    "print(train_data.isnull().sum())"
   ]
  },
  {
   "cell_type": "markdown",
   "id": "08ca0dee-3e6c-47b4-af84-c14e64fdf38e",
   "metadata": {},
   "source": [
    "# ## 2. Data Preprocessing\n",
    "# cleaning and normalizing the data before using it"
   ]
  },
  {
   "cell_type": "code",
   "execution_count": 65,
   "id": "23ef0a7b-39a1-477a-bb3b-d42b16e88d5b",
   "metadata": {},
   "outputs": [
    {
     "name": "stdout",
     "output_type": "stream",
     "text": [
      "Data types:\n",
      "Unnamed: 0             int64\n",
      "Name                  object\n",
      "Location              object\n",
      "Year                   int64\n",
      "Kilometers_Driven      int64\n",
      "Fuel_Type             object\n",
      "Transmission          object\n",
      "Owner_Type            object\n",
      "Mileage               object\n",
      "Engine                object\n",
      "Power                 object\n",
      "Seats                float64\n",
      "Price                float64\n",
      "dtype: object\n"
     ]
    }
   ],
   "source": [
    "print(\"Data types:\")\n",
    "print(train_data.dtypes)"
   ]
  },
  {
   "cell_type": "code",
   "execution_count": 66,
   "id": "793f3523-6d08-47b4-b66e-3a45c96a278e",
   "metadata": {},
   "outputs": [],
   "source": [
    "cols = ['Mileage', 'Engine', 'Power']\n",
    "\n",
    "def clean_column(x):\n",
    "    try:\n",
    "        if isinstance(x, str):\n",
    "            if x.strip().lower() == 'null':\n",
    "                return np.nan\n",
    "            return float(x.split()[0])\n",
    "        elif isinstance(x, (int, float)):\n",
    "            return float(x)\n",
    "        else:\n",
    "            return np.nan\n",
    "    except:\n",
    "        return np.nan\n",
    "\n",
    "\n",
    "for col in cols:\n",
    "    train_data[col] = train_data[col].apply(clean_column)\n",
    "    test_data[col] = test_data[col].apply(clean_column)\n",
    "\n"
   ]
  },
  {
   "cell_type": "code",
   "execution_count": 67,
   "id": "555fea00-0a33-4c69-a448-5665eccacd3b",
   "metadata": {},
   "outputs": [
    {
     "name": "stdout",
     "output_type": "stream",
     "text": [
      "After conversion:\n",
      "Mileage: 0    23.84\n",
      "1    18.49\n",
      "2    15.00\n",
      "3    17.20\n",
      "4    21.02\n",
      "Name: Mileage, dtype: float64\n",
      "Engine: 0    1199.0\n",
      "1    1493.0\n",
      "2    1598.0\n",
      "3    1396.0\n",
      "4    1248.0\n",
      "Name: Engine, dtype: float64\n",
      "Power: 0     84.00\n",
      "1    100.00\n",
      "2    103.52\n",
      "3     53.50\n",
      "4     88.76\n",
      "Name: Power, dtype: float64\n"
     ]
    }
   ],
   "source": [
    "print(\"After conversion:\")\n",
    "print(\"Mileage:\", train_data['Mileage'].head())\n",
    "print(\"Engine:\", train_data['Engine'].head())\n",
    "print(\"Power:\", train_data['Power'].head())"
   ]
  },
  {
   "cell_type": "code",
   "execution_count": 68,
   "id": "4460d6d1-e522-4f89-b96d-7ff8d88d8895",
   "metadata": {},
   "outputs": [
    {
     "name": "stdout",
     "output_type": "stream",
     "text": [
      "Mileage    float64\n",
      "Engine     float64\n",
      "Power      float64\n",
      "dtype: object\n"
     ]
    }
   ],
   "source": [
    "print(train_data[cols].dtypes)"
   ]
  },
  {
   "cell_type": "markdown",
   "id": "78d95ecd-db68-4efe-8ed1-e52634c2da9f",
   "metadata": {},
   "source": [
    "# ### 2.1 Handling Missing Values"
   ]
  },
  {
   "cell_type": "code",
   "execution_count": 70,
   "id": "769207c7-b424-4385-9a6c-c63e196fc469",
   "metadata": {},
   "outputs": [
    {
     "name": "stdout",
     "output_type": "stream",
     "text": [
      "Missing values after cleaning:\n",
      "Unnamed: 0            0\n",
      "Name                  0\n",
      "Location              0\n",
      "Year                  0\n",
      "Kilometers_Driven     0\n",
      "Fuel_Type             0\n",
      "Transmission          0\n",
      "Owner_Type            0\n",
      "Mileage               1\n",
      "Engine               28\n",
      "Power                98\n",
      "Seats                32\n",
      "Price                 0\n",
      "dtype: int64\n"
     ]
    }
   ],
   "source": [
    "print(\"Missing values after cleaning:\")\n",
    "print(train_data.isnull().sum())"
   ]
  },
  {
   "cell_type": "code",
   "execution_count": 71,
   "id": "5483a157-b6d9-4590-ac23-b4a06be2b264",
   "metadata": {},
   "outputs": [
    {
     "name": "stdout",
     "output_type": "stream",
     "text": [
      "Median of Year: 2014.0\n",
      "Median of Kilometers_Driven: 53000.0\n",
      "Median of Mileage: 18.0\n",
      "Median of Engine: 1493.0\n",
      "Median of Power: 98.59\n",
      "Median of Seats: 5.0\n"
     ]
    }
   ],
   "source": [
    "numeric_cols = ['Year', 'Kilometers_Driven', 'Mileage', 'Engine', 'Power', 'Seats']\n",
    "for col in numeric_cols:\n",
    "    print(f\"Median of {col}: {train_data[col].median()}\")"
   ]
  },
  {
   "cell_type": "code",
   "execution_count": 72,
   "id": "79bad66a-c23d-497f-9040-84f3eaeb09bc",
   "metadata": {},
   "outputs": [],
   "source": [
    "for col in numeric_cols:\n",
    "    train_data[col] = train_data[col].fillna(train_data[col].median())\n",
    "    test_data[col] = test_data[col].fillna(train_data[col].median())  # Using train median for test data"
   ]
  },
  {
   "cell_type": "code",
   "execution_count": 73,
   "id": "7577b196-7dd7-4b23-afd7-c12bc27537f6",
   "metadata": {},
   "outputs": [
    {
     "name": "stdout",
     "output_type": "stream",
     "text": [
      "Missing values after filling:\n",
      "Unnamed: 0           0\n",
      "Name                 0\n",
      "Location             0\n",
      "Year                 0\n",
      "Kilometers_Driven    0\n",
      "Fuel_Type            0\n",
      "Transmission         0\n",
      "Owner_Type           0\n",
      "Mileage              0\n",
      "Engine               0\n",
      "Power                0\n",
      "Seats                0\n",
      "Price                0\n",
      "dtype: int64\n"
     ]
    }
   ],
   "source": [
    "print(\"Missing values after filling:\")\n",
    "print(train_data.isnull().sum())"
   ]
  },
  {
   "cell_type": "markdown",
   "id": "440520b4-d9f8-4ce1-bc8a-c5973df38324",
   "metadata": {},
   "source": [
    "# ### 2.2 One-hot Encoding Categorical Variables"
   ]
  },
  {
   "cell_type": "code",
   "execution_count": 74,
   "id": "14bcd37c-0008-4440-8990-572cc44c3399",
   "metadata": {},
   "outputs": [
    {
     "name": "stdout",
     "output_type": "stream",
     "text": [
      "\n",
      "Unique values in Fuel_Type:\n",
      "Fuel_Type\n",
      "Diesel      1998\n",
      "Petrol      1751\n",
      "Electric       1\n",
      "Name: count, dtype: int64\n",
      "\n",
      "Unique values in Transmission:\n",
      "Transmission\n",
      "Manual       2673\n",
      "Automatic    1077\n",
      "Name: count, dtype: int64\n",
      "\n",
      "Unique values in Owner_Type:\n",
      "Owner_Type\n",
      "First             3083\n",
      "Second             589\n",
      "Third               73\n",
      "Fourth & Above       5\n",
      "Name: count, dtype: int64\n",
      "\n",
      "Unique values in Location:\n",
      "Location\n",
      "Mumbai        491\n",
      "Hyderabad     469\n",
      "Coimbatore    424\n",
      "Kochi         400\n",
      "Pune          367\n",
      "Kolkata       333\n",
      "Delhi         319\n",
      "Chennai       305\n",
      "Jaipur        272\n",
      "Bangalore     234\n",
      "Ahmedabad     136\n",
      "Name: count, dtype: int64\n"
     ]
    }
   ],
   "source": [
    "categorical_cols = ['Fuel_Type', 'Transmission', 'Owner_Type', 'Location']\n",
    "\n",
    "for col in categorical_cols:\n",
    "    print(f\"\\nUnique values in {col}:\")\n",
    "    print(train_data[col].value_counts())"
   ]
  },
  {
   "cell_type": "code",
   "execution_count": 75,
   "id": "4521754b-3332-43e9-a27e-ff164c14f2d3",
   "metadata": {},
   "outputs": [],
   "source": [
    "#one hot encoding\n",
    "train_encoded = pd.get_dummies(train_data, columns=categorical_cols, drop_first=True)\n",
    "test_encoded = pd.get_dummies(test_data, columns=categorical_cols, drop_first=True)"
   ]
  },
  {
   "cell_type": "code",
   "execution_count": 76,
   "id": "bacddeda-32b3-41f0-93b6-a07f9e18a474",
   "metadata": {},
   "outputs": [
    {
     "name": "stdout",
     "output_type": "stream",
     "text": [
      "   Unnamed: 0                                        Name  Year  \\\n",
      "0           0         Tata Tiago 1.2 Revotron XZ WO Alloy  2017   \n",
      "1           1  Mahindra TUV 300 2015-2019 mHAWK100 T8 AMT  2017   \n",
      "2           2      Skoda Rapid 2013-2016 1.6 MPI Ambition  2014   \n",
      "3           3                     Tata Indica V2 DLS BSII  2007   \n",
      "4           4        Tata Manza Club Class Quadrajet90 LX  2013   \n",
      "\n",
      "   Kilometers_Driven  Mileage  Engine   Power  Seats  Price  \\\n",
      "0              16500    23.84  1199.0   84.00    5.0   5.00   \n",
      "1              47357    18.49  1493.0  100.00    7.0   8.37   \n",
      "2              35000    15.00  1598.0  103.52    5.0   4.50   \n",
      "3             200000    17.20  1396.0   53.50    5.0   0.85   \n",
      "4              64000    21.02  1248.0   88.76    5.0   2.65   \n",
      "\n",
      "   Fuel_Type_Electric  ...  Location_Bangalore  Location_Chennai  \\\n",
      "0               False  ...               False             False   \n",
      "1               False  ...               False             False   \n",
      "2               False  ...               False             False   \n",
      "3               False  ...               False             False   \n",
      "4               False  ...               False             False   \n",
      "\n",
      "   Location_Coimbatore  Location_Delhi  Location_Hyderabad  Location_Jaipur  \\\n",
      "0                False           False                True            False   \n",
      "1                False           False               False            False   \n",
      "2                False           False               False            False   \n",
      "3                False           False               False             True   \n",
      "4                False           False               False            False   \n",
      "\n",
      "   Location_Kochi  Location_Kolkata  Location_Mumbai  Location_Pune  \n",
      "0           False             False            False          False  \n",
      "1            True             False            False          False  \n",
      "2           False             False             True          False  \n",
      "3           False             False            False          False  \n",
      "4           False             False             True          False  \n",
      "\n",
      "[5 rows x 25 columns]\n"
     ]
    }
   ],
   "source": [
    "print(train_encoded.head())"
   ]
  },
  {
   "cell_type": "code",
   "execution_count": 77,
   "id": "873a1ee7-eb2d-46bb-bdb9-340a76514cf0",
   "metadata": {},
   "outputs": [
    {
     "name": "stdout",
     "output_type": "stream",
     "text": [
      "Train columns: 25\n",
      "Test columns: 25\n",
      "Columns in train but not in test: set()\n"
     ]
    }
   ],
   "source": [
    "print(\"Train columns:\", len(train_encoded.columns))\n",
    "print(\"Test columns:\", len(test_encoded.columns))\n",
    "\n",
    "missing_cols = set(train_encoded.columns) - set(test_encoded.columns)\n",
    "print(f\"Columns in train but not in test: {missing_cols}\")"
   ]
  },
  {
   "cell_type": "markdown",
   "id": "978694e2-0a64-4cec-8aae-e75e9dcb0b4e",
   "metadata": {},
   "source": [
    "# ### 2.3 Preparing Features and Target Variable"
   ]
  },
  {
   "cell_type": "code",
   "execution_count": 78,
   "id": "ecab547b-1921-41d3-8409-73c0544a728f",
   "metadata": {},
   "outputs": [
    {
     "name": "stdout",
     "output_type": "stream",
     "text": [
      "X_train shape: (3750, 22)\n",
      "y_train shape: (3750,)\n",
      "X_test shape: (1250, 22)\n",
      "y_test shape: (1250,)\n"
     ]
    }
   ],
   "source": [
    "X_train = train_encoded.drop(['Name', 'Price', 'Unnamed: 0'], axis=1)\n",
    "y_train = train_encoded['Price']\n",
    "X_test = test_encoded.drop(['Name', 'Price', 'Unnamed: 0'], axis=1)\n",
    "y_test = test_encoded['Price']\n",
    "\n",
    "print(\"X_train shape:\", X_train.shape)\n",
    "print(\"y_train shape:\", y_train.shape)\n",
    "print(\"X_test shape:\", X_test.shape)\n",
    "print(\"y_test shape:\", y_test.shape)"
   ]
  },
  {
   "cell_type": "markdown",
   "id": "8f4273c3-82c0-431f-b189-2a8e61f63d8f",
   "metadata": {},
   "source": [
    "# ### 2.4 Feature Scaling"
   ]
  },
  {
   "cell_type": "code",
   "execution_count": 79,
   "id": "4e810df5-8d46-4045-b18f-d3dd2e7a30c2",
   "metadata": {},
   "outputs": [],
   "source": [
    "def standardize(X):\n",
    "    X = np.array(X, dtype=float)\n",
    "    means = np.mean(X, axis=0)\n",
    "    stds = np.std(X, axis=0)\n",
    "    stds[stds < 1e-10] = 1.0\n",
    "    return (X - means) / stds, means, stds"
   ]
  },
  {
   "cell_type": "code",
   "execution_count": 80,
   "id": "91bb9549-1276-4fcb-8ce4-8afc3952219b",
   "metadata": {},
   "outputs": [
    {
     "name": "stdout",
     "output_type": "stream",
     "text": [
      "After scaling - X_train shape: (3750, 22)\n"
     ]
    }
   ],
   "source": [
    "X_train_array = X_train.values  \n",
    "X_test_array = X_test.values\n",
    "X_train_scaled, means, stds = standardize(X_train_array)\n",
    "X_test_scaled = (X_test_array - means) / stds\n",
    "\n",
    "print(\"After scaling - X_train shape:\", X_train_scaled.shape)"
   ]
  },
  {
   "cell_type": "code",
   "execution_count": 81,
   "id": "e6cfaede-a4f8-431b-afc6-448ffed1ef7a",
   "metadata": {},
   "outputs": [
    {
     "name": "stdout",
     "output_type": "stream",
     "text": [
      "Before scaling - Mean of first feature: 2013.3133333333333\n",
      "Before scaling - Std of first feature: 3.2638150819077962\n",
      "After scaling - Mean of first feature: 1.762098615169331e-14\n",
      "After scaling - Std of first feature: 1.0\n"
     ]
    }
   ],
   "source": [
    "print(\"Before scaling - Mean of first feature:\", np.mean(X_train_array[:, 0]))\n",
    "print(\"Before scaling - Std of first feature:\", np.std(X_train_array[:, 0]))\n",
    "print(\"After scaling - Mean of first feature:\", np.mean(X_train_scaled[:, 0]))\n",
    "print(\"After scaling - Std of first feature:\", np.std(X_train_scaled[:, 0]))"
   ]
  },
  {
   "cell_type": "markdown",
   "id": "917802e2-ce97-4d2f-ac6c-2ca410927600",
   "metadata": {},
   "source": [
    "# ## Linear regression implimentation"
   ]
  },
  {
   "cell_type": "code",
   "execution_count": 82,
   "id": "6d46c412-028e-475e-bbd7-7ec0e43e4742",
   "metadata": {},
   "outputs": [],
   "source": [
    "class LinearRegression:\n",
    "    def __init__(self, learning_rate=0.01, n_iterations=1000):\n",
    "        self.learning_rate = learning_rate\n",
    "        self.n_iterations = n_iterations\n",
    "        self.weights = None\n",
    "        self.bias = None\n",
    "        self.cost_history = []\n",
    "        \n",
    "    def fit(self, X, y):\n",
    "        n_samples, n_features = X.shape\n",
    "        self.weights = np.zeros(n_features)\n",
    "        self.bias = 0\n",
    "    \n",
    "        for i in range(self.n_iterations):\n",
    "            y_predicted = np.dot(X, self.weights) + self.bias\n",
    "            \n",
    "            cost = (1/n_samples) * np.sum((y_predicted - y)**2)\n",
    "            self.cost_history.append(cost)\n",
    "\n",
    "            dw = (1/n_samples) * np.dot(X.T, (y_predicted - y))\n",
    "            db = (1/n_samples) * np.sum(y_predicted - y)\n",
    "\n",
    "            self.weights -= self.learning_rate * dw\n",
    "            self.bias -= self.learning_rate * db\n",
    "            \n",
    "            # Printing progress every 100 iterations\n",
    "            if (i+1) % 100 == 0:\n",
    "                print(f'Iteration {i+1}/{self.n_iterations}: Cost = {cost}')\n",
    "                \n",
    "        return self\n",
    "    \n",
    "    def predict(self, X):\n",
    "        return np.dot(X, self.weights) + self.bias\n",
    "    \n",
    "    def r2_score(self, X, y):\n",
    "        y_pred = self.predict(X)\n",
    "        ss_total = np.sum((y - np.mean(y))**2)\n",
    "        ss_residual = np.sum((y - y_pred)**2)\n",
    "        r2 = 1 - (ss_residual / ss_total)\n",
    "        return r2\n"
   ]
  },
  {
   "cell_type": "markdown",
   "id": "b54f5761-3674-4c59-9fad-4309442342f9",
   "metadata": {},
   "source": [
    "# ## 4. Training the Model"
   ]
  },
  {
   "cell_type": "code",
   "execution_count": 83,
   "id": "a8a002c7-ce90-4f9a-acc9-f36cca909b9e",
   "metadata": {},
   "outputs": [
    {
     "name": "stdout",
     "output_type": "stream",
     "text": [
      "Iteration 100/1000: Cost = 53.74438350133623\n",
      "Iteration 200/1000: Cost = 40.92286153978242\n",
      "Iteration 300/1000: Cost = 38.91993460447018\n",
      "Iteration 400/1000: Cost = 38.4577513304949\n",
      "Iteration 500/1000: Cost = 38.27773740478562\n",
      "Iteration 600/1000: Cost = 38.17576370920422\n",
      "Iteration 700/1000: Cost = 38.10661032073868\n",
      "Iteration 800/1000: Cost = 38.055186756915546\n",
      "Iteration 900/1000: Cost = 38.01474161908866\n",
      "Iteration 1000/1000: Cost = 37.981770045926986\n"
     ]
    },
    {
     "data": {
      "text/plain": [
       "<__main__.LinearRegression at 0x2012a2da300>"
      ]
     },
     "execution_count": 83,
     "metadata": {},
     "output_type": "execute_result"
    }
   ],
   "source": [
    "model = LinearRegression(learning_rate=0.01, n_iterations=1000)\n",
    "model.fit(X_train_scaled, y_train)"
   ]
  },
  {
   "cell_type": "markdown",
   "id": "0ba641b4-f9cd-439e-a040-b414acae0402",
   "metadata": {},
   "source": [
    "# ## 5. Visualizing"
   ]
  },
  {
   "cell_type": "code",
   "execution_count": 57,
   "id": "24ac014e-db65-4d9c-a05d-3e549d0b44e0",
   "metadata": {},
   "outputs": [
    {
     "data": {
      "image/png": "[encoded data removed]",
      "text/plain": [
       "<Figure size 1000x600 with 1 Axes>"
      ]
     },
     "metadata": {},
     "output_type": "display_data"
    }
   ],
   "source": [
    "plt.figure(figsize=(10, 6))\n",
    "plt.plot(model.cost_history)\n",
    "plt.title('Cost History')\n",
    "plt.xlabel('Iterations')\n",
    "plt.ylabel('Cost (MSE)')\n",
    "plt.grid(True)\n",
    "plt.savefig('cost_history.png')\n",
    "plt.show()"
   ]
  },
  {
   "cell_type": "markdown",
   "id": "832dbf86-ca6b-4c5c-9860-5646ebc4e952",
   "metadata": {},
   "source": [
    "# ## 6. Evaluating"
   ]
  },
  {
   "cell_type": "code",
   "execution_count": 85,
   "id": "2bfd6308-698c-49e9-9485-0904cdfbfefc",
   "metadata": {},
   "outputs": [
    {
     "name": "stdout",
     "output_type": "stream",
     "text": [
      "Train R² Score: 0.6976\n",
      "Test R² Score: 0.4492\n",
      "Train MAE: 3.6780\n",
      "Test MAE: 3.8816\n"
     ]
    }
   ],
   "source": [
    "# R² score \n",
    "train_r2 = model.r2_score(X_train_scaled, y_train)\n",
    "test_r2 = model.r2_score(X_test_scaled, y_test)\n",
    "\n",
    "print(f\"Train R² Score: {train_r2:.4f}\")\n",
    "print(f\"Test R² Score: {test_r2:.4f}\")\n",
    "\n",
    "# Mean Absolute Error (MAE)\n",
    "def mae(y_true, y_pred):\n",
    "    return np.mean(np.abs(y_true - y_pred))\n",
    "\n",
    "train_pred = model.predict(X_train_scaled)\n",
    "test_pred = model.predict(X_test_scaled)\n",
    "\n",
    "train_mae = mae(y_train, train_pred)\n",
    "test_mae = mae(y_test, test_pred)\n",
    "\n",
    "print(f\"Train MAE: {train_mae:.4f}\")\n",
    "print(f\"Test MAE: {test_mae:.4f}\")"
   ]
  },
  {
   "cell_type": "code",
   "execution_count": 86,
   "id": "d8524e31-a636-4d1c-83f0-37c35ce2ad82",
   "metadata": {},
   "outputs": [
    {
     "data": {
      "image/png": "[encoded data removed]",
      "text/plain": [
       "<Figure size 1000x600 with 1 Axes>"
      ]
     },
     "metadata": {},
     "output_type": "display_data"
    }
   ],
   "source": [
    "plt.figure(figsize=(10, 6))\n",
    "plt.scatter(y_test, model.predict(X_test_scaled), alpha=0.5)\n",
    "plt.plot([y_test.min(), y_test.max()], [y_test.min(), y_test.max()], 'r--')\n",
    "plt.xlabel('Actual Prices')\n",
    "plt.ylabel('Predicted Prices')\n",
    "plt.title('Predicted vs Actual Car Prices')\n",
    "plt.grid(True)\n",
    "plt.savefig('predictions_vs_actual.png')\n",
    "plt.show()"
   ]
  },
  {
   "cell_type": "code",
   "execution_count": null,
   "id": "a5a9efc6-134b-4f7f-ae81-b4701d1f7be1",
   "metadata": {},
   "outputs": [],
   "source": []
  }
 ],
 "metadata": {
  "kernelspec": {
   "display_name": "Python 3 (ipykernel)",
   "language": "python",
   "name": "python3"
  },
  "language_info": {
   "codemirror_mode": {
    "name": "ipython",
    "version": 3
   },
   "file_extension": ".py",
   "mimetype": "text/x-python",
   "name": "python",
   "nbconvert_exporter": "python",
   "pygments_lexer": "ipython3",
   "version": "3.12.7"
  }
 },
 "nbformat": 4,
 "nbformat_minor": 5
}
